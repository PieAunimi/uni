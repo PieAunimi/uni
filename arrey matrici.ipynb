{
 "cells": [
  {
   "cell_type": "code",
   "execution_count": 17,
   "id": "8a880292-75b8-4fd1-8345-d408855df6f7",
   "metadata": {},
   "outputs": [],
   "source": [
    "import numpy as np\n",
    "np.random.seed(0)  # seed for reproducibility valore massimo escluso \n"
   ]
  },
  {
   "cell_type": "code",
   "execution_count": 2,
   "id": "c59de2d4-b9b8-41e6-a96f-368ba2311419",
   "metadata": {},
   "outputs": [],
   "source": [
    "x1 = np.random.randint(10, size=6)  # One-dimensional array\n",
    "x2 = np.random.randint(10, size=(3, 4))  # Two-dimensional array\n",
    "x3 = np.random.randint(10, size=(3, 4, 5))  # Three-dimensional array\n",
    "x4 = np.random.randint(20, size=(2,5,6,8))"
   ]
  },
  {
   "cell_type": "code",
   "execution_count": 18,
   "id": "9fd3bda9-2e36-44cf-9a8b-a0999715cb43",
   "metadata": {},
   "outputs": [
    {
     "name": "stdout",
     "output_type": "stream",
     "text": [
      "x2 ndim:  2\n"
     ]
    }
   ],
   "source": [
    "print(\"x2 ndim: \", x2.ndim) #il numero di dimensioni"
   ]
  },
  {
   "cell_type": "code",
   "execution_count": 4,
   "id": "a216af9b-f1c0-4b06-8148-c411808facc0",
   "metadata": {},
   "outputs": [
    {
     "name": "stdout",
     "output_type": "stream",
     "text": [
      "x4 size 480\n"
     ]
    }
   ],
   "source": [
    "print(\"x4 size\",x4.size) #la dimensione totale dell'arrey"
   ]
  },
  {
   "cell_type": "code",
   "execution_count": 5,
   "id": "5189154b-c1ba-449e-9115-8eb3e6082f88",
   "metadata": {},
   "outputs": [
    {
     "name": "stdout",
     "output_type": "stream",
     "text": [
      "x3 shape (3, 4, 5)\n"
     ]
    }
   ],
   "source": [
    "print(\"x3 shape\",x3.shape) #la dimensione di ogni dimensione "
   ]
  },
  {
   "cell_type": "code",
   "execution_count": 21,
   "id": "91f0db29-836c-4ba9-b99e-292ac1020be0",
   "metadata": {},
   "outputs": [
    {
     "data": {
      "text/plain": [
       "array([5, 0, 3, 3, 7, 9])"
      ]
     },
     "execution_count": 21,
     "metadata": {},
     "output_type": "execute_result"
    }
   ],
   "source": [
    "x1 #partono sempre da 0 gli indici "
   ]
  },
  {
   "cell_type": "code",
   "execution_count": 15,
   "id": "1db81d9a-3749-49e0-89a4-94576bfe57a9",
   "metadata": {},
   "outputs": [
    {
     "data": {
      "text/plain": [
       "1"
      ]
     },
     "execution_count": 15,
     "metadata": {},
     "output_type": "execute_result"
    }
   ],
   "source": [
    "x2[2,0] #tra parentesi indice di posizione "
   ]
  },
  {
   "cell_type": "code",
   "execution_count": 22,
   "id": "9f95bdc3-ab4e-4fa3-a90e-ccf940a594c1",
   "metadata": {},
   "outputs": [
    {
     "name": "stdout",
     "output_type": "stream",
     "text": [
      "dtype int32\n"
     ]
    }
   ],
   "source": [
    "print(\"dtype\",x4.dtype)#tipo di matrice \n"
   ]
  },
  {
   "cell_type": "code",
   "execution_count": 24,
   "id": "8240b00b-c28c-42c3-8d47-0de9b1d3b8d4",
   "metadata": {},
   "outputs": [
    {
     "data": {
      "text/plain": [
       "9"
      ]
     },
     "execution_count": 24,
     "metadata": {},
     "output_type": "execute_result"
    }
   ],
   "source": [
    "x1[-1]"
   ]
  },
  {
   "cell_type": "code",
   "execution_count": 38,
   "id": "dfa2a721-62f6-4b44-8e3c-b0eec287744a",
   "metadata": {},
   "outputs": [
    {
     "data": {
      "text/plain": [
       "array([[1, 5, 2, 4],\n",
       "       [7, 6, 8, 8],\n",
       "       [1, 6, 7, 7]])"
      ]
     },
     "execution_count": 38,
     "metadata": {},
     "output_type": "execute_result"
    }
   ],
   "source": [
    "x2[0,0]= 1 #dare un valore specifico a un indice sovrascrivendo quello precedente \n",
    "x2"
   ]
  },
  {
   "cell_type": "code",
   "execution_count": 29,
   "id": "f6359f23-d5c3-4533-9645-95b24f7cd5a3",
   "metadata": {},
   "outputs": [],
   "source": [
    "#slincing creare sottomatrici \n",
    "x=np.arange(10)"
   ]
  },
  {
   "cell_type": "code",
   "execution_count": 30,
   "id": "501b39fc-77e6-41c0-b1d6-2004ad378ceb",
   "metadata": {},
   "outputs": [
    {
     "data": {
      "text/plain": [
       "array([0, 1, 2, 3, 4, 5, 6])"
      ]
     },
     "execution_count": 30,
     "metadata": {},
     "output_type": "execute_result"
    }
   ],
   "source": [
    "x[:7]"
   ]
  },
  {
   "cell_type": "code",
   "execution_count": 34,
   "id": "3aa0af1f-7d1c-450e-a7fd-bbbe40dd6323",
   "metadata": {},
   "outputs": [
    {
     "data": {
      "text/plain": [
       "array([0, 2, 4, 6, 8])"
      ]
     },
     "execution_count": 34,
     "metadata": {},
     "output_type": "execute_result"
    }
   ],
   "source": [
    "x[0:10:2] #dato partenza dato finale passo/avanzamento"
   ]
  },
  {
   "cell_type": "code",
   "execution_count": 36,
   "id": "8a432f6a-ab23-4f81-9dba-021ee40c3add",
   "metadata": {},
   "outputs": [
    {
     "data": {
      "text/plain": [
       "array([ 0,  5, 10, 15, 20, 25, 30, 35, 40, 45])"
      ]
     },
     "execution_count": 36,
     "metadata": {},
     "output_type": "execute_result"
    }
   ],
   "source": [
    "x5=np.arange(50)\n",
    "#si può definire anche solo un elemento\n",
    "x5[::5] #solo passo "
   ]
  },
  {
   "cell_type": "code",
   "execution_count": 48,
   "id": "f5ea22bb-8cd3-43b0-afc4-9c286342cdd6",
   "metadata": {},
   "outputs": [
    {
     "data": {
      "text/plain": [
       "array([49, 42, 35, 28, 21, 14,  7,  0])"
      ]
     },
     "execution_count": 48,
     "metadata": {},
     "output_type": "execute_result"
    }
   ],
   "source": [
    "x5[::-7] #in ordine descrescente "
   ]
  },
  {
   "cell_type": "code",
   "execution_count": 39,
   "id": "bfd9a2be-d638-421d-a1b3-af1a513c3183",
   "metadata": {},
   "outputs": [
    {
     "data": {
      "text/plain": [
       "array([[1, 5, 2, 4],\n",
       "       [7, 6, 8, 8],\n",
       "       [1, 6, 7, 7]])"
      ]
     },
     "execution_count": 39,
     "metadata": {},
     "output_type": "execute_result"
    }
   ],
   "source": [
    "x2\n"
   ]
  },
  {
   "cell_type": "code",
   "execution_count": 49,
   "id": "a40e103d-b93a-4833-b0db-6b676b775121",
   "metadata": {},
   "outputs": [
    {
     "data": {
      "text/plain": [
       "array([[1, 5, 2],\n",
       "       [7, 6, 8]])"
      ]
     },
     "execution_count": 49,
     "metadata": {},
     "output_type": "execute_result"
    }
   ],
   "source": [
    "x2[:2, :3] #due righe e tre colonne "
   ]
  },
  {
   "cell_type": "code",
   "execution_count": 59,
   "id": "d17300e2-1faa-43f7-91f8-b0388a58b716",
   "metadata": {},
   "outputs": [],
   "source": [
    "x10= np.random.randint(10, size=(10,10))"
   ]
  },
  {
   "cell_type": "code",
   "execution_count": 65,
   "id": "4096eec0-96ef-4574-8f49-ccb6cf39fe14",
   "metadata": {},
   "outputs": [
    {
     "data": {
      "text/plain": [
       "array([[7, 9, 6, 0, 8, 8, 2, 8, 4, 8],\n",
       "       [6, 2, 0, 5, 2, 7, 5, 4, 3, 1]])"
      ]
     },
     "execution_count": 65,
     "metadata": {},
     "output_type": "execute_result"
    }
   ],
   "source": [
    "x10[4:6:,0:10:] #da tabella 10x10 prende ogni due di riga e di colonna "
   ]
  },
  {
   "cell_type": "code",
   "execution_count": 75,
   "id": "b699b617-fac5-4e44-9b5f-af0f1e6cd7f8",
   "metadata": {},
   "outputs": [
    {
     "data": {
      "text/plain": [
       "array([[8, 4, 3, 4, 4, 9, 3, 5, 5, 1],\n",
       "       [4, 6, 3, 4, 7, 5, 9, 9, 7, 0],\n",
       "       [8, 6, 9, 9, 3, 3, 8, 9, 2, 3],\n",
       "       [4, 2, 6, 0, 4, 1, 3, 0, 6, 2],\n",
       "       [7, 9, 6, 0, 8, 8, 2, 8, 4, 8],\n",
       "       [6, 2, 0, 5, 2, 7, 5, 4, 3, 1],\n",
       "       [3, 2, 7, 7, 1, 0, 0, 7, 2, 0],\n",
       "       [5, 2, 9, 8, 7, 7, 6, 2, 1, 9],\n",
       "       [8, 4, 7, 4, 8, 2, 6, 8, 1, 9],\n",
       "       [1, 8, 1, 0, 2, 9, 7, 5, 0, 2]])"
      ]
     },
     "execution_count": 75,
     "metadata": {},
     "output_type": "execute_result"
    }
   ],
   "source": [
    "x10"
   ]
  },
  {
   "cell_type": "code",
   "execution_count": 68,
   "id": "cfb7a966-714f-47b6-8268-c90036febc2d",
   "metadata": {},
   "outputs": [
    {
     "name": "stdout",
     "output_type": "stream",
     "text": [
      "[8 4 3 4 4 9 3 5 5 1]\n"
     ]
    }
   ],
   "source": [
    "print(x10[0]) #scrittura compatta "
   ]
  },
  {
   "cell_type": "code",
   "execution_count": 113,
   "id": "d2644623-7d66-4ff7-bc19-d9832f277242",
   "metadata": {},
   "outputs": [
    {
     "data": {
      "text/plain": [
       "array([[1, 5, 2, 4],\n",
       "       [7, 6, 8, 8],\n",
       "       [1, 6, 7, 7]])"
      ]
     },
     "execution_count": 113,
     "metadata": {},
     "output_type": "execute_result"
    }
   ],
   "source": [
    "x2"
   ]
  },
  {
   "cell_type": "code",
   "execution_count": 119,
   "id": "4b625dbc-67c7-4855-95d0-f96323db46a6",
   "metadata": {},
   "outputs": [
    {
     "name": "stdout",
     "output_type": "stream",
     "text": [
      "[[1 5]\n",
      " [7 6]]\n"
     ]
    }
   ],
   "source": [
    "x2_sub_copy = x2[:2, :2].copy()\n",
    "#se aggiunto .copy non modifica la matrice origianle \n",
    "print(x2_sub_copy)"
   ]
  },
  {
   "cell_type": "code",
   "execution_count": 117,
   "id": "4dc49a40-8ccb-4579-99a8-7b21b0e12186",
   "metadata": {},
   "outputs": [
    {
     "name": "stdout",
     "output_type": "stream",
     "text": [
      "[[42  5]\n",
      " [ 7  6]]\n"
     ]
    }
   ],
   "source": [
    "x2_sub_copy[0, 0] = 42\n",
    "print(x2_sub_copy)"
   ]
  },
  {
   "cell_type": "code",
   "execution_count": 118,
   "id": "293d460e-6dc6-434c-b639-37ab0e1b9ece",
   "metadata": {},
   "outputs": [
    {
     "data": {
      "text/plain": [
       "array([[1, 5, 2, 4],\n",
       "       [7, 6, 8, 8],\n",
       "       [1, 6, 7, 7]])"
      ]
     },
     "execution_count": 118,
     "metadata": {},
     "output_type": "execute_result"
    }
   ],
   "source": [
    "x2"
   ]
  },
  {
   "cell_type": "code",
   "execution_count": 126,
   "id": "da0e62a1-5a41-4246-b079-04bfe32fdad5",
   "metadata": {},
   "outputs": [
    {
     "name": "stdout",
     "output_type": "stream",
     "text": [
      "[[ 1  2  3  4]\n",
      " [ 5  6  7  8]\n",
      " [ 9 10 11 12]\n",
      " [13 14 15 16]]\n"
     ]
    }
   ],
   "source": [
    "grid = np.arange(1, 17).reshape((4, 4)) \n",
    "#cambia le dimesioni da mono a quadridimensionale \n",
    "print(grid)\n",
    "#non serve più di tanto "
   ]
  },
  {
   "cell_type": "code",
   "execution_count": 127,
   "id": "ec95cede-6646-42a5-8b2a-bc6f41dd635e",
   "metadata": {},
   "outputs": [
    {
     "data": {
      "text/plain": [
       "array([1, 2, 3, 3, 2, 1])"
      ]
     },
     "execution_count": 127,
     "metadata": {},
     "output_type": "execute_result"
    }
   ],
   "source": [
    "x = np.array([1, 2, 3])\n",
    "y = np.array([3, 2, 1])\n",
    "np.concatenate([x, y])\n",
    "#concatena le matrici "
   ]
  },
  {
   "cell_type": "code",
   "execution_count": 130,
   "id": "143d3ee8-e1d3-4b49-8da3-46b285c0c39a",
   "metadata": {},
   "outputs": [
    {
     "name": "stdout",
     "output_type": "stream",
     "text": [
      "[ 1  2  3  3  2  1 99 99 99]\n"
     ]
    }
   ],
   "source": [
    "z= 99,99,99 #può esser fatto per riga ma anche per collonna\n",
    "print(np.concatenate([x,y,z]))"
   ]
  },
  {
   "cell_type": "code",
   "execution_count": 133,
   "id": "0e44cd63-da39-4154-89b9-d62c3f069fe4",
   "metadata": {},
   "outputs": [
    {
     "data": {
      "text/plain": [
       "array([[1, 2, 3],\n",
       "       [4, 5, 6],\n",
       "       [1, 2, 3],\n",
       "       [4, 5, 6]])"
      ]
     },
     "execution_count": 133,
     "metadata": {},
     "output_type": "execute_result"
    }
   ],
   "source": [
    "grid = np.array([[1, 2, 3],       #per colonna \n",
    "                 [4, 5, 6]])\n",
    "np.concatenate([grid, grid])"
   ]
  },
  {
   "cell_type": "code",
   "execution_count": 135,
   "id": "4ed7ea44-406e-4042-9ec6-fd1649e8330e",
   "metadata": {},
   "outputs": [
    {
     "data": {
      "text/plain": [
       "array([[1, 2, 3],\n",
       "       [9, 8, 7],\n",
       "       [6, 5, 4]])"
      ]
     },
     "execution_count": 135,
     "metadata": {},
     "output_type": "execute_result"
    }
   ],
   "source": [
    "#nel caso hanno dimensioni diverse \n",
    "x = np.array([1, 2, 3])\n",
    "grid = np.array([[9, 8, 7],     \n",
    "                 [6, 5, 4]])\n",
    "np.vstack([x, grid])          \n",
    "#np.vstack specifica che vengono orientate per colonne "
   ]
  },
  {
   "cell_type": "code",
   "execution_count": 136,
   "id": "93a5a51d-2ebb-4e93-a15d-3e7a3b8ae046",
   "metadata": {},
   "outputs": [
    {
     "data": {
      "text/plain": [
       "array([[ 9,  8,  7, 99],\n",
       "       [ 6,  5,  4, 99]])"
      ]
     },
     "execution_count": 136,
     "metadata": {},
     "output_type": "execute_result"
    }
   ],
   "source": [
    "y = np.array([[99],\n",
    "              [99]])\n",
    "np.hstack([grid, y]) \n",
    "#np.hstack per righe "
   ]
  },
  {
   "cell_type": "code",
   "execution_count": 137,
   "id": "ad370f58-c49f-4643-a354-2d75acc9dbb6",
   "metadata": {},
   "outputs": [
    {
     "name": "stdout",
     "output_type": "stream",
     "text": [
      "[1 2 3] [99 99] [3 2 1]\n"
     ]
    }
   ],
   "source": [
    "x = [1, 2, 3, 99, 99, 3, 2, 1]\n",
    "x1, x2, x3 = np.split(x, [3, 5])\n",
    "print(x1, x2, x3)\n",
    "#separa in matrici differeti e indica su quali indici tagl"
   ]
  },
  {
   "cell_type": "code",
   "execution_count": null,
   "id": "cd24c37b-bb46-41c6-a538-b476689a20fd",
   "metadata": {},
   "outputs": [],
   "source": []
  }
 ],
 "metadata": {
  "kernelspec": {
   "display_name": "Python 3 (ipykernel)",
   "language": "python",
   "name": "python3"
  },
  "language_info": {
   "codemirror_mode": {
    "name": "ipython",
    "version": 3
   },
   "file_extension": ".py",
   "mimetype": "text/x-python",
   "name": "python",
   "nbconvert_exporter": "python",
   "pygments_lexer": "ipython3",
   "version": "3.9.5"
  }
 },
 "nbformat": 4,
 "nbformat_minor": 5
}
