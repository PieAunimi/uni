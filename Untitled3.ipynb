{
 "cells": [
  {
   "cell_type": "code",
   "execution_count": 2,
   "id": "a55809c4-4245-4652-9a62-d5159d94bf64",
   "metadata": {},
   "outputs": [],
   "source": [
    "import numpy as np"
   ]
  },
  {
   "cell_type": "code",
   "execution_count": 2,
   "id": "f6529538-63f0-4aa6-9cc5-0f58068f3ccc",
   "metadata": {},
   "outputs": [
    {
     "data": {
      "text/plain": [
       "array([0, 0, 0])"
      ]
     },
     "execution_count": 2,
     "metadata": {},
     "output_type": "execute_result"
    }
   ],
   "source": [
    "np.zeros(3, dtype=int)"
   ]
  },
  {
   "cell_type": "code",
   "execution_count": 3,
   "id": "4239493a-888e-4000-b6fd-b24823eda353",
   "metadata": {},
   "outputs": [
    {
     "data": {
      "text/plain": [
       "array([[3, 3, 3, 3, 3],\n",
       "       [3, 3, 3, 3, 3],\n",
       "       [3, 3, 3, 3, 3]])"
      ]
     },
     "execution_count": 3,
     "metadata": {},
     "output_type": "execute_result"
    }
   ],
   "source": [
    "np.full((3, 5), 3)\n"
   ]
  },
  {
   "cell_type": "code",
   "execution_count": 4,
   "id": "3d4ea812-2c53-46a6-96af-c11f22836e0b",
   "metadata": {},
   "outputs": [
    {
     "data": {
      "text/plain": [
       "array([ 0,  2,  4,  6,  8, 10, 12, 14, 16, 18, 20, 22, 24, 26, 28])"
      ]
     },
     "execution_count": 4,
     "metadata": {},
     "output_type": "execute_result"
    }
   ],
   "source": [
    "np.arange(0, 30, 2)\n"
   ]
  },
  {
   "cell_type": "code",
   "execution_count": 5,
   "id": "ccd1ebeb-0a90-4ab9-bbe6-c9423ca6f119",
   "metadata": {},
   "outputs": [
    {
     "data": {
      "text/plain": [
       "array([ 0,  5, 10, 15])"
      ]
     },
     "execution_count": 5,
     "metadata": {},
     "output_type": "execute_result"
    }
   ],
   "source": [
    "np.arange(0,(20),5)"
   ]
  },
  {
   "cell_type": "code",
   "execution_count": 9,
   "id": "6a8c0229-1102-41bf-9206-8b8fd326d4d3",
   "metadata": {},
   "outputs": [
    {
     "data": {
      "text/plain": [
       "array([0.96530027, 0.37099737, 0.79147045, 0.07704057, 0.3973353 ,\n",
       "       0.21699503, 0.03478386, 0.8778612 , 0.18739232, 0.5955654 ,\n",
       "       0.89948722, 0.74552018, 0.14904547, 0.83285277, 0.79662348,\n",
       "       0.43901341, 0.04124922, 0.97453478, 0.84564346, 0.32384684,\n",
       "       0.19213042, 0.05181822, 0.08652785, 0.85523315, 0.44880102,\n",
       "       0.45810994, 0.93315475, 0.83775404, 0.22230208, 0.17148189,\n",
       "       0.11577639, 0.37773773, 0.39436008, 0.8287443 , 0.7867471 ,\n",
       "       0.45246823, 0.41736108, 0.75509119, 0.17604365, 0.19804646,\n",
       "       0.89043012, 0.94029195, 0.64326476, 0.51317107, 0.48003696,\n",
       "       0.40612961, 0.73634726, 0.79281807, 0.71895808, 0.4561976 ,\n",
       "       0.26289344, 0.00875247, 0.88990165, 0.23304882, 0.76097871,\n",
       "       0.25384461, 0.9929308 , 0.32790741, 0.1342398 , 0.66136172,\n",
       "       0.16283146, 0.52406966, 0.8546862 , 0.78800319, 0.74265681,\n",
       "       0.38125153, 0.60465328, 0.17736408, 0.99144059, 0.85018337,\n",
       "       0.76385651, 0.73799941, 0.34386798, 0.84580403, 0.41474941,\n",
       "       0.2095249 , 0.75531119, 0.36106801, 0.19860473, 0.12798337,\n",
       "       0.09665602, 0.52498388, 0.0684831 , 0.31356048, 0.38289011,\n",
       "       0.9156933 , 0.89505211, 0.28633915, 0.89580058, 0.39708031,\n",
       "       0.87531385, 0.66157539, 0.39683183])"
      ]
     },
     "execution_count": 9,
     "metadata": {},
     "output_type": "execute_result"
    }
   ],
   "source": [
    "np.random.random (93)"
   ]
  },
  {
   "cell_type": "code",
   "execution_count": 15,
   "id": "2cf2aed9-1c86-4123-8754-655b13786eaf",
   "metadata": {},
   "outputs": [
    {
     "data": {
      "text/plain": [
       "array([3.53050667, 2.57510642, 1.71145003])"
      ]
     },
     "execution_count": 15,
     "metadata": {},
     "output_type": "execute_result"
    }
   ],
   "source": [
    "#cose fa questa funzione ? \n",
    "np.random.normal((3,2,1))"
   ]
  },
  {
   "cell_type": "code",
   "execution_count": 16,
   "id": "5217837e-0650-43f3-97c4-aec4f3bccfe1",
   "metadata": {},
   "outputs": [
    {
     "data": {
      "text/plain": [
       "array([0., 0., 0., 0., 0., 0., 0., 0., 0., 0., 0., 0., 0., 0., 0., 0., 0.,\n",
       "       0., 0., 0., 0., 0., 0., 0., 0., 0., 0., 0., 0., 0., 0., 0., 0., 0.,\n",
       "       0., 0., 0., 0., 0., 0., 0., 0., 0., 0., 0., 0., 0., 0., 0., 0.])"
      ]
     },
     "execution_count": 16,
     "metadata": {},
     "output_type": "execute_result"
    }
   ],
   "source": [
    "np.zeros(50)"
   ]
  },
  {
   "cell_type": "code",
   "execution_count": 18,
   "id": "8e18fa82-766f-493c-97ee-0e4b6c5779e8",
   "metadata": {},
   "outputs": [
    {
     "data": {
      "text/plain": [
       "array([[1., 1., 1., 1., 1.],\n",
       "       [1., 1., 1., 1., 1.]])"
      ]
     },
     "execution_count": 18,
     "metadata": {},
     "output_type": "execute_result"
    }
   ],
   "source": [
    "np.ones((2,5))"
   ]
  },
  {
   "cell_type": "code",
   "execution_count": 20,
   "id": "b9f9c179-1008-4302-83af-ceb02b60559b",
   "metadata": {},
   "outputs": [
    {
     "data": {
      "text/plain": [
       "array([[12.4, 12.4, 12.4],\n",
       "       [12.4, 12.4, 12.4],\n",
       "       [12.4, 12.4, 12.4]])"
      ]
     },
     "execution_count": 20,
     "metadata": {},
     "output_type": "execute_result"
    }
   ],
   "source": [
    "np.full((3,3),12.4)"
   ]
  },
  {
   "cell_type": "code",
   "execution_count": 24,
   "id": "49859ae5-aadd-4a4c-986a-de91d40d099d",
   "metadata": {},
   "outputs": [
    {
     "data": {
      "text/plain": [
       "array([ 6, 10, 14, 18, 22, 26, 30, 34, 38, 42])"
      ]
     },
     "execution_count": 24,
     "metadata": {},
     "output_type": "execute_result"
    }
   ],
   "source": [
    "np.arange(6,46,4)"
   ]
  },
  {
   "cell_type": "code",
   "execution_count": 25,
   "id": "9cba70e3-a0b0-4ea8-9b8e-2fbc4c98bec4",
   "metadata": {},
   "outputs": [
    {
     "data": {
      "text/plain": [
       "array([[0.5382675 , 0.93120242, 0.88356821, 0.56413749, 0.11721984,\n",
       "        0.55011613, 0.5319818 , 0.95451702, 0.63715219, 0.38435526]])"
      ]
     },
     "execution_count": 25,
     "metadata": {},
     "output_type": "execute_result"
    }
   ],
   "source": [
    "np.random.random((1,10))"
   ]
  },
  {
   "cell_type": "code",
   "execution_count": 29,
   "id": "840c9155-19ad-4642-b303-ac4960ba49f8",
   "metadata": {},
   "outputs": [
    {
     "data": {
      "text/plain": [
       "array([ 2.26472003, 10.75868984])"
      ]
     },
     "execution_count": 29,
     "metadata": {},
     "output_type": "execute_result"
    }
   ],
   "source": [
    "np.random.normal((2,10))"
   ]
  },
  {
   "cell_type": "code",
   "execution_count": 31,
   "id": "9db68939-d7ab-41ae-ae50-e674a8bae840",
   "metadata": {},
   "outputs": [
    {
     "data": {
      "text/plain": [
       "array([[-0.31464942, -0.43498326, -1.88351226, -0.34629285,  0.84619446,\n",
       "         0.19239599,  0.5355638 ,  0.83182816,  2.16836984, -1.61478683],\n",
       "       [-0.50721089, -1.15900443, -0.39880678,  0.03505409, -1.50216386,\n",
       "        -1.81759968,  0.0224343 , -0.68673828, -0.41506609,  1.50195929]])"
      ]
     },
     "execution_count": 31,
     "metadata": {},
     "output_type": "execute_result"
    }
   ],
   "source": [
    "np.random.normal (0,1,(2,10))"
   ]
  },
  {
   "cell_type": "code",
   "execution_count": 8,
   "id": "4dc1bb10-5e55-4dab-9707-a0a5d1a7d3d4",
   "metadata": {},
   "outputs": [
    {
     "data": {
      "text/plain": [
       "array([[  8.05881037,  14.89546191,   0.43893474,  -2.60946624,\n",
       "         -3.90621   ,   1.45889082],\n",
       "       [  7.03132453,  15.7904565 ,   4.91352649, -11.29864031,\n",
       "          0.34959193, -33.00837393],\n",
       "       [-20.09636265,   4.68373955,  11.24449578,  -1.54619068,\n",
       "         18.28523487,   1.85399832],\n",
       "       [ 23.0437605 ,  -7.99719265, -18.14236752,  15.00874082,\n",
       "          8.42848899,   0.27518284],\n",
       "       [ 11.65232466,  -4.44907684,   2.23433253,  13.22085887,\n",
       "        -15.10375043,  -6.72646541],\n",
       "       [ 16.08486782,  -9.45355369,  -1.19791711,  -9.47683925,\n",
       "         18.4788826 ,  -0.17986221],\n",
       "       [-19.65081193,   7.90051576,   5.07786455,   2.64762601,\n",
       "        -10.75122007,  -3.88700651],\n",
       "       [ -0.78523238,  -9.25355051,   1.50712988,  -3.61797657,\n",
       "          9.98042551, -17.68777225],\n",
       "       [ 12.85513772, -11.44076525,   3.59743136, -16.07388171,\n",
       "          9.77929472,  -4.15282975],\n",
       "       [ 14.04713192,  -7.99755637,  -6.03521062,  12.67526637,\n",
       "         23.4677897 ,  -1.57230569]])"
      ]
     },
     "execution_count": 8,
     "metadata": {},
     "output_type": "execute_result"
    }
   ],
   "source": [
    "np.random.normal(2,10,(10,6))\n"
   ]
  },
  {
   "cell_type": "code",
   "execution_count": 20,
   "id": "fcf1eeee-c107-42a3-beb9-53cfbf779a84",
   "metadata": {},
   "outputs": [
    {
     "data": {
      "text/plain": [
       "array([[6, 6, 8, 1, 2],\n",
       "       [7, 4, 9, 8, 4]])"
      ]
     },
     "execution_count": 20,
     "metadata": {},
     "output_type": "execute_result"
    }
   ],
   "source": [
    "np.random.randint(1,10,(2,5))"
   ]
  },
  {
   "cell_type": "code",
   "execution_count": null,
   "id": "d30e1954-e734-4950-a707-30eaa77c3e67",
   "metadata": {},
   "outputs": [],
   "source": []
  }
 ],
 "metadata": {
  "kernelspec": {
   "display_name": "Python 3 (ipykernel)",
   "language": "python",
   "name": "python3"
  },
  "language_info": {
   "codemirror_mode": {
    "name": "ipython",
    "version": 3
   },
   "file_extension": ".py",
   "mimetype": "text/x-python",
   "name": "python",
   "nbconvert_exporter": "python",
   "pygments_lexer": "ipython3",
   "version": "3.9.5"
  }
 },
 "nbformat": 4,
 "nbformat_minor": 5
}
